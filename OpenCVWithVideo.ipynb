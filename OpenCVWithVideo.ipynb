{
 "cells": [
  {
   "cell_type": "markdown",
   "metadata": {},
   "source": [
    "# **LENDO VÍDEOS COM OPENCV**\n",
    "\n",
    "O formato AVI é o formato suportado por todas as versões do OpenCV. Não faz mal priorizar este formato pela compatibilidade de versões.\n",
    "\n",
    "Outros codecs suportados:\n",
    "- MPEG4 ou MP4\n",
    "- FLV"
   ]
  },
  {
   "cell_type": "code",
   "execution_count": 3,
   "metadata": {},
   "outputs": [],
   "source": [
    "import cv2\n",
    "\n",
    "cap = cv2.VideoCapture('videos/RodoviaCOREIA.mp4')\n",
    "\n",
    "# CHECANDO ANTES DE PROCESSAR\n",
    "if not cap.isOpened():\n",
    "    print('Não pode ser aberto')\n",
    "    exit()\n",
    "\n",
    "while cap.isOpened():\n",
    "    ret, frame = cap.read()\n",
    "\n",
    "    if not ret:\n",
    "        print('Stream parou')\n",
    "        break\n",
    "\n",
    "    cv2.imshow('Video', frame)\n",
    "\n",
    "    if cv2.waitKey(1) == ord('q'): #letra Q para parar\n",
    "        break\n",
    "\n",
    "\n",
    "cap.release()\n",
    "cv2.destroyAllWindows()"
   ]
  },
  {
   "cell_type": "code",
   "execution_count": 6,
   "metadata": {},
   "outputs": [
    {
     "name": "stdout",
     "output_type": "stream",
     "text": [
      " Posição atual do arquivo de vídeo em milissegundos. | valor: 0.0  \n",
      " Índice de base 0 do quadro a ser decodificado/capturado em seguida | valor: 0.0  \n",
      " Posição relativa do arquivo de vídeo: 0=início do filme, 1=fim do filme. | valor: 6.510416666666667e-05  \n",
      " Largura dos quadros no fluxo de vídeo. | valor: 640.0  \n",
      " Altura dos quadros no fluxo de vídeo. | valor: 360.0  \n",
      " Taxa de quadros. | valor: 30.0  \n",
      " Código de codec de 4 caracteres. veja VideoWriter::fourcc . | valor: 875967080.0  \n",
      " Número de quadros no arquivo de vídeo. | valor: 776.0  \n",
      " Formato dos objetos Mat (veja Mat::type() ) retornados por VideoCapture::retrieve() . Defina o valor -1 para buscar fluxos de vídeo RAW não codificados (como Mat 8UC1). | valor: 0.0  \n",
      " Valor específico do backend que indica o modo de captura atual. | valor: 0.0  \n",
      " Brilho da imagem (somente para câmeras compatíveis). | valor: 0.0  \n",
      " Contraste da imagem (somente para câmeras). | valor: 0.0  \n",
      " Saturação da imagem (somente para câmeras). | valor: 0.0  \n",
      " Matiz da imagem (somente para câmeras). | valor: 0.0  \n",
      " Ganho da imagem (somente para câmeras que suportam). | valor: 0.0  \n",
      " Exposição (somente para câmeras compatíveis). | valor: 0.0  \n",
      " Sinalizadores booleanos indicando se as imagens devem ser convertidas para RGB. | valor: 1.0  \n",
      " Atualmente sem suporte. | valor: 0.0  \n"
     ]
    }
   ],
   "source": [
    "#PEGANDO PROPRIEDADES DO VIDEO\n",
    "cap = cv2.VideoCapture('videos/RodoviaCOREIA.mp4')\n",
    "\n",
    "propriedades = [\n",
    "    'Posição atual do arquivo de vídeo em milissegundos.',\n",
    "    'Índice de base 0 do quadro a ser decodificado/capturado em seguida',\n",
    "    'Posição relativa do arquivo de vídeo: 0=início do filme, 1=fim do filme.',\n",
    "    'Largura dos quadros no fluxo de vídeo.',\n",
    "    'Altura dos quadros no fluxo de vídeo.',\n",
    "    'Taxa de quadros.',\n",
    "    'Código de codec de 4 caracteres. veja VideoWriter::fourcc .',\n",
    "    'Número de quadros no arquivo de vídeo.',\n",
    "    'Formato dos objetos Mat (veja Mat::type() ) retornados por VideoCapture::retrieve() . Defina o valor -1 para buscar fluxos de vídeo RAW não codificados (como Mat 8UC1).',\n",
    "    'Valor específico do backend que indica o modo de captura atual.',\n",
    "    'Brilho da imagem (somente para câmeras compatíveis).',\n",
    "    'Contraste da imagem (somente para câmeras).',\n",
    "    'Saturação da imagem (somente para câmeras).',\n",
    "    'Matiz da imagem (somente para câmeras).',\n",
    "    'Ganho da imagem (somente para câmeras que suportam).',\n",
    "    'Exposição (somente para câmeras compatíveis).',\n",
    "    'Sinalizadores booleanos indicando se as imagens devem ser convertidas para RGB.',\n",
    "    'Atualmente sem suporte.'\n",
    "\n",
    "]\n",
    "\n",
    "for i in range(0,18):\n",
    "    print(f' {propriedades[i]} | valor: {cap.get(i)}  ')\n",
    "\n"
   ]
  }
 ],
 "metadata": {
  "kernelspec": {
   "display_name": "classicalCV",
   "language": "python",
   "name": "python3"
  },
  "language_info": {
   "codemirror_mode": {
    "name": "ipython",
    "version": 3
   },
   "file_extension": ".py",
   "mimetype": "text/x-python",
   "name": "python",
   "nbconvert_exporter": "python",
   "pygments_lexer": "ipython3",
   "version": "3.12.8"
  }
 },
 "nbformat": 4,
 "nbformat_minor": 2
}
