{
 "cells": [
  {
   "cell_type": "markdown",
   "metadata": {},
   "source": [
    "# **ESCREVENDO ARQUIVOS DE VÍDEO**\n",
    "\n",
    "Quando usamos o objeto VideoWriter do OPENCV, nos precisamos espeficicar:\n",
    "\n",
    "1. o nome que será dado ao arquivo de video de saída.\n",
    "2. o código FourCC\n",
    "3. o número de frames por segundos (fps)\n",
    "4. o tamanho da saída (largura, altura)\n",
    "5. a flag IsColor, que se for True, o encoder irá colorir o frame, se não, o frame será em escala de cinza\n",
    "\n",
    "FourCC é um código de 4 bytes utilizado para especificar o CODEC.\n",
    "\n",
    "A lista disponivel pode ser encontrada em fourcc.org, que é uma plataforma independente. \n",
    "\n",
    "- No Linux Fedora: DIVX, XVID, MJPG, X264, WMV1, WMV2. (XVID é o mais preferido. MJPG resulta em uma video com maior tamanho. X264 dá vídeos com tamanho pequeno)\n",
    "- No Windows: DIVX (mais testado e usado)\n",
    "- No OSX: MJPG (.mp4, DIVX (.avi), x264 (.mkv))\n",
    "\n",
    "O exemplo de código FourCC passamos assim: cv2.VideoWriter.fourcc('M', 'J', 'P', 'G') ou .fourcc(*'MJPG')"
   ]
  },
  {
   "cell_type": "code",
   "execution_count": 2,
   "metadata": {},
   "outputs": [],
   "source": [
    "#Fazendo um vídeo em preto e branco\n",
    "\n",
    "import cv2\n",
    "\n",
    "cap = cv2.VideoCapture('videos/RodoviaCOREIA.mp4')\n",
    "\n",
    "w = int(cap.get(3))\n",
    "h = int(cap.get(4))\n",
    "\n",
    "\n",
    "saida = cv2.VideoWriter('videos/RodoviaCOREIACinza.avi', cv2.VideoWriter.fourcc('M', 'J', 'P', 'G'), 30, (w, h), False)\n",
    "\n",
    "while(1):\n",
    "\n",
    "    ret, frame = cap.read()\n",
    "\n",
    "    if ret == True:\n",
    "        cinza = cv2.cvtColor(frame, cv2.COLOR_BGR2GRAY)\n",
    "        saida.write(cinza)\n",
    "\n",
    "    else:\n",
    "        break\n",
    "        print('Video convertido para Grayscale')\n",
    "\n",
    "cap.release()\n",
    "saida.release()\n",
    "cv2.destroyAllWindows()"
   ]
  }
 ],
 "metadata": {
  "kernelspec": {
   "display_name": "classicalCV",
   "language": "python",
   "name": "python3"
  },
  "language_info": {
   "codemirror_mode": {
    "name": "ipython",
    "version": 3
   },
   "file_extension": ".py",
   "mimetype": "text/x-python",
   "name": "python",
   "nbconvert_exporter": "python",
   "pygments_lexer": "ipython3",
   "version": "3.12.8"
  }
 },
 "nbformat": 4,
 "nbformat_minor": 2
}
