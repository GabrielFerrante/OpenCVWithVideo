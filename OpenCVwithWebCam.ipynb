{
 "cells": [
  {
   "cell_type": "markdown",
   "metadata": {},
   "source": [
    "# **USANDO WEBCAM**\n",
    "\n"
   ]
  },
  {
   "cell_type": "code",
   "execution_count": 1,
   "metadata": {},
   "outputs": [],
   "source": [
    "import cv2\n",
    "import numpy as np"
   ]
  },
  {
   "cell_type": "code",
   "execution_count": 2,
   "metadata": {},
   "outputs": [],
   "source": [
    "cap = cv2.VideoCapture(0) # 0 é a webcam padrão\n",
    "\n",
    "while True: #laço infinito até a tecla de parada ser acionada\n",
    "    ret, frame = cap.read() #retorna o booleano se a captura foi bem sucedida e o frame capturado\n",
    "\n",
    "    cv2.imshow('Nossa camera ao vivo',frame )\n",
    "\n",
    "    if cv2.waitKey(1) == 13: #13 é a tecla enter\n",
    "        break\n",
    "\n",
    "cap.release() #libera a captura de video\n",
    "cv2.destroyAllWindows() #fecha todas as janelas abertas"
   ]
  },
  {
   "cell_type": "markdown",
   "metadata": {},
   "source": [
    "## FAZENDO ALGUM PROCESSAMENTO ESPECÍFICO COM O FRAME"
   ]
  },
  {
   "cell_type": "code",
   "execution_count": 4,
   "metadata": {},
   "outputs": [],
   "source": [
    "def sketch(image):\n",
    "    gray = cv2.cvtColor(image, cv2.COLOR_BGR2GRAY)\n",
    "\n",
    "    blur = cv2.GaussianBlur(gray, (5,5), 0)\n",
    "\n",
    "    cannyEdge = cv2.Canny(blur, 10, 70)\n",
    "\n",
    "    ret, mask = cv2.threshold(cannyEdge, 70, 255, cv2.THRESH_BINARY_INV)\n",
    "\n",
    "    return mask\n",
    "\n",
    "cap = cv2.VideoCapture(0)\n",
    "\n",
    "while True: #laço infinito até a tecla de parada ser acionada\n",
    "    ret, frame = cap.read() #retorna o booleano se a captura foi bem sucedida e o frame capturado\n",
    "\n",
    "    cv2.imshow('Nosso sketcher', sketch(frame))\n",
    "\n",
    "    if cv2.waitKey(1) == 13: #13 é a tecla enter\n",
    "        break\n",
    "\n",
    "cap.release() #libera a captura de video\n",
    "cv2.destroyAllWindows() #fecha todas as janelas abertas"
   ]
  }
 ],
 "metadata": {
  "kernelspec": {
   "display_name": "classicalCV",
   "language": "python",
   "name": "python3"
  },
  "language_info": {
   "codemirror_mode": {
    "name": "ipython",
    "version": 3
   },
   "file_extension": ".py",
   "mimetype": "text/x-python",
   "name": "python",
   "nbconvert_exporter": "python",
   "pygments_lexer": "ipython3",
   "version": "3.12.8"
  }
 },
 "nbformat": 4,
 "nbformat_minor": 2
}
