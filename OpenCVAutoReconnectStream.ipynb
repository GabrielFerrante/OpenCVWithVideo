{
 "cells": [
  {
   "cell_type": "code",
   "execution_count": 2,
   "metadata": {},
   "outputs": [],
   "source": [
    "import cv2\n",
    "import requests\n",
    "import time\n",
    "\n",
    "class VideoCapture:\n",
    "    def __init__(self, enderecoCamera, enderecoForce=None, blocking=False):\n",
    "\n",
    "        self.enderecoCamera = enderecoCamera\n",
    "        self.enderecoForce = enderecoForce #Endereço caso a camera seja desconectada por outro client \n",
    "        self.blocking = blocking\n",
    "\n",
    "        #Note: pode ser aprimorado\n",
    "        self.RECONNECTION_PERIOD = 0.5\n",
    "        self.connectCamera()\n",
    "\n",
    "    \n",
    "    def connectCamera(self):\n",
    "        print('Conectando...')\n",
    "        while True:\n",
    "            try:\n",
    "                if self.enderecoForce is not None:\n",
    "                    requests.get(self.enderecoForce)\n",
    "\n",
    "                self.capture = cv2.VideoCapture(self.enderecoCamera)\n",
    "\n",
    "                if not self.capture.isOpened():\n",
    "                    time.sleep(self.RECONNECTION_PERIOD)\n",
    "                    raise Exception('Não pode comunicar com a camera {0}'.format(self.enderecoCamera))\n",
    "\n",
    "                print('Conectado a camera {}'.format(self.enderecoCamera))\n",
    "\n",
    "                break\n",
    "\n",
    "            except Exception as e:\n",
    "                print(e)\n",
    "\n",
    "                if self.blocking is False:\n",
    "                    break\n",
    "\n",
    "                time.sleep(self.RECONNECTION_PERIOD)\n",
    "\n",
    "    def getStream(self):\n",
    "\n",
    "        #\"Le um frame e se o frame não receber uma tentativa de reconecção \"\n",
    "\n",
    "        ret, frame = self.capture.read()\n",
    "\n",
    "        if ret is False:\n",
    "            self.connectCamera()\n",
    "\n",
    "        return ret, frame\n"
   ]
  },
  {
   "cell_type": "code",
   "execution_count": 10,
   "metadata": {},
   "outputs": [
    {
     "name": "stdout",
     "output_type": "stream",
     "text": [
      "Conectando...\n",
      "Conectado a camera http://159.130.70.206/mjpg/video.mjpg\n",
      "Saindo...\n"
     ]
    }
   ],
   "source": [
    "#cap = VideoCapture('http://honjin1.miemasu.net/nphMotionJpeg?Resolution=640x480&Quality=Standard')\n",
    "cap = VideoCapture('http://159.130.70.206/mjpg/video.mjpg') #Camera publica na Noruega\n",
    "#https://github.com/fury999io/public-ip-cams Links de cameras publicas\n",
    "\n",
    "while(1):\n",
    "\n",
    "    ret, frame = cap.getStream()\n",
    "\n",
    "    try:\n",
    "        cv2.imshow('RTSP/HTTP transmissao', frame)\n",
    "    except:\n",
    "        print('Caiu')\n",
    "\n",
    "    if cv2.waitKey(1) == 13:\n",
    "        print('Saindo...')\n",
    "        break\n",
    "\n",
    "cv2.destroyAllWindows()"
   ]
  }
 ],
 "metadata": {
  "kernelspec": {
   "display_name": "classicalCV",
   "language": "python",
   "name": "python3"
  },
  "language_info": {
   "codemirror_mode": {
    "name": "ipython",
    "version": 3
   },
   "file_extension": ".py",
   "mimetype": "text/x-python",
   "name": "python",
   "nbconvert_exporter": "python",
   "pygments_lexer": "ipython3",
   "version": "3.12.8"
  }
 },
 "nbformat": 4,
 "nbformat_minor": 2
}
